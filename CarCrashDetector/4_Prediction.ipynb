{
  "nbformat": 4,
  "nbformat_minor": 0,
  "metadata": {
    "colab": {
      "name": "4_Prediction.ipynb",
      "version": "0.3.2",
      "provenance": [],
      "collapsed_sections": [
        "z1cwXZWXfJ3y",
        "D10eOV4wPnZP",
        "NCfhpvFj9MVS",
        "6pjCRDpOhGLk",
        "JfzW_sWmp39e"
      ],
      "include_colab_link": true
    },
    "kernelspec": {
      "name": "python3",
      "display_name": "Python 3"
    }
  },
  "cells": [
    {
      "cell_type": "markdown",
      "metadata": {
        "id": "view-in-github",
        "colab_type": "text"
      },
      "source": [
        "<a href=\"https://colab.research.google.com/github/Giffy/CarCrashDetector/blob/master/4_Prediction.ipynb\" target=\"_parent\"><img src=\"https://colab.research.google.com/assets/colab-badge.svg\" alt=\"Open In Colab\"/></a>"
      ]
    },
    {
      "metadata": {
        "id": "dZ4hXXSQPEFh",
        "colab_type": "text"
      },
      "cell_type": "markdown",
      "source": [
        "# Index\n",
        "<ol>\n",
        "    <li><a href=\"#system _setup\">System setup</a>\n",
        "    <li><a href=\"#load_train\">Load pre-trained ResNet</a>\n",
        "    <li><a href=\"#pred_batch\">Prediction batch processing</a>\n",
        "    "
      ]
    },
    {
      "metadata": {
        "id": "z1cwXZWXfJ3y",
        "colab_type": "text"
      },
      "cell_type": "markdown",
      "source": [
        "<br>\n",
        "<a id=\"system_setup\"> </a>\n",
        "# 1. System setup"
      ]
    },
    {
      "metadata": {
        "id": "NCfhpvFj9MVS",
        "colab_type": "text"
      },
      "cell_type": "markdown",
      "source": [
        "## 1.1 Link Goggle Drive with Colab \n",
        "\n",
        "Run the code and follow the link to get an authentification key, copy it and paste in the box that will appear in jupyter notebook. \n"
      ]
    },
    {
      "metadata": {
        "id": "DkHETrDoHZaE",
        "colab_type": "code",
        "outputId": "ffbef204-9879-442a-852b-391fd0c609db",
        "colab": {
          "base_uri": "https://localhost:8080/",
          "height": 141
        }
      },
      "cell_type": "code",
      "source": [
        "# Check is Link to Drive is OK\n",
        "google = !if [ -d 'GDrive/' ]; then echo \"1\" ; else echo \"0\"; fi\n",
        "if (google[0] is '0' ):\n",
        "  from google.colab import drive\n",
        "  drive.mount('/content/GDrive/')\n",
        "!if [ -d 'GDrive/' ]; then echo \"Connection to Google drive successful\" ; else echo \"Error to connect to Google drive\"; fi"
      ],
      "execution_count": 1,
      "outputs": [
        {
          "output_type": "stream",
          "text": [
            "Go to this URL in a browser: https://accounts.google.com/o/oauth2/auth?client_id=947318989803-6bn6qk8qdgf4n4g3pfee6491hc0brc4i.apps.googleusercontent.com&redirect_uri=urn%3Aietf%3Awg%3Aoauth%3A2.0%3Aoob&scope=email%20https%3A%2F%2Fwww.googleapis.com%2Fauth%2Fdocs.test%20https%3A%2F%2Fwww.googleapis.com%2Fauth%2Fdrive%20https%3A%2F%2Fwww.googleapis.com%2Fauth%2Fdrive.photos.readonly%20https%3A%2F%2Fwww.googleapis.com%2Fauth%2Fpeopleapi.readonly&response_type=code\n",
            "\n",
            "Enter your authorization code:\n",
            "··········\n",
            "Mounted at /content/GDrive/\n",
            "Connection to Google drive successful\n"
          ],
          "name": "stdout"
        }
      ]
    },
    {
      "metadata": {
        "id": "6pjCRDpOhGLk",
        "colab_type": "text"
      },
      "cell_type": "markdown",
      "source": [
        "## 1.2 Install and update python libraries\n",
        "Set up of Python, installing the required modules\n",
        "<ol>\n",
        "   <li>Updated python package manager (pip)\n",
        "   <li>Torchvision\n",
        "   <li>Pillow 4.0.0 (required for fastai library)\n",
        "   <li>Image\n",
        "   <li>Fast ai 0.7.0\n",
        "   <li>Torchtext 0.2.3"
      ]
    },
    {
      "metadata": {
        "id": "Tayh7BBEfYGK",
        "colab_type": "code",
        "outputId": "8a38c5c2-6353-49fc-a3be-6bd58ec92323",
        "colab": {
          "base_uri": "https://localhost:8080/",
          "height": 1250
        }
      },
      "cell_type": "code",
      "source": [
        "!pip install --upgrade pip  > /dev/null\n",
        "!pip install scipy==1.0.0 > /dev/null\n",
        "!pip install http://download.pytorch.org/whl/cu75/torch-0.3.0.post4-cp36-cp36m-linux_x86_64.whl  && pip install torchvision\n",
        "!pip install Pillow==4.1.1 > /dev/null\n",
        "!pip install matplotlib 3.0.2\n",
        "!pip install image  > /dev/null\n",
        "!pip install fastai==0.7.0  > /dev/null\n",
        "!apt update && apt install -y libsm6 libxext6 > /dev/null\n",
        "!pip install torchtext==0.2.3"
      ],
      "execution_count": 2,
      "outputs": [
        {
          "output_type": "stream",
          "text": [
            "Collecting torch==0.3.0.post4 from http://download.pytorch.org/whl/cu75/torch-0.3.0.post4-cp36-cp36m-linux_x86_64.whl\n",
            "\u001b[?25l  Downloading http://download.pytorch.org/whl/cu75/torch-0.3.0.post4-cp36-cp36m-linux_x86_64.whl (397.4MB)\n",
            "\u001b[K    100% |████████████████████████████████| 397.4MB 93.7MB/s \n",
            "\u001b[?25hRequirement already satisfied: pyyaml in /usr/local/lib/python3.6/dist-packages (from torch==0.3.0.post4) (3.13)\n",
            "Requirement already satisfied: numpy in /usr/local/lib/python3.6/dist-packages (from torch==0.3.0.post4) (1.14.6)\n",
            "Installing collected packages: torch\n",
            "Successfully installed torch-0.3.0.post4\n",
            "Collecting torchvision\n",
            "\u001b[?25l  Downloading https://files.pythonhosted.org/packages/ca/0d/f00b2885711e08bd71242ebe7b96561e6f6d01fdb4b9dcf4d37e2e13c5e1/torchvision-0.2.1-py2.py3-none-any.whl (54kB)\n",
            "\u001b[K    100% |████████████████████████████████| 61kB 2.2MB/s \n",
            "\u001b[?25hCollecting pillow>=4.1.1 (from torchvision)\n",
            "\u001b[?25l  Downloading https://files.pythonhosted.org/packages/62/94/5430ebaa83f91cc7a9f687ff5238e26164a779cca2ef9903232268b0a318/Pillow-5.3.0-cp36-cp36m-manylinux1_x86_64.whl (2.0MB)\n",
            "\u001b[K    100% |████████████████████████████████| 2.0MB 14.1MB/s \n",
            "\u001b[?25hRequirement already satisfied: numpy in /usr/local/lib/python3.6/dist-packages (from torchvision) (1.14.6)\n",
            "Requirement already satisfied: torch in /usr/local/lib/python3.6/dist-packages (from torchvision) (0.3.0.post4)\n",
            "Requirement already satisfied: six in /usr/local/lib/python3.6/dist-packages (from torchvision) (1.11.0)\n",
            "Requirement already satisfied: pyyaml in /usr/local/lib/python3.6/dist-packages (from torch->torchvision) (3.13)\n",
            "Installing collected packages: pillow, torchvision\n",
            "  Found existing installation: Pillow 4.0.0\n",
            "    Uninstalling Pillow-4.0.0:\n",
            "      Successfully uninstalled Pillow-4.0.0\n",
            "Successfully installed pillow-5.3.0 torchvision-0.2.1\n",
            "Requirement already satisfied: matplotlib in /usr/local/lib/python3.6/dist-packages (2.1.2)\n",
            "Collecting 3.0.2\n",
            "\u001b[31m  Could not find a version that satisfies the requirement 3.0.2 (from versions: )\u001b[0m\n",
            "\u001b[31mNo matching distribution found for 3.0.2\u001b[0m\n",
            "\u001b[31mmizani 0.5.2 has requirement pandas>=0.23.4, but you'll have pandas 0.22.0 which is incompatible.\u001b[0m\n",
            "\u001b[31mplotnine 0.5.1 has requirement matplotlib>=3.0.0, but you'll have matplotlib 2.1.2 which is incompatible.\u001b[0m\n",
            "\u001b[31mplotnine 0.5.1 has requirement pandas>=0.23.4, but you'll have pandas 0.22.0 which is incompatible.\u001b[0m\n",
            "\u001b[31mjupyter-console 6.0.0 has requirement prompt-toolkit<2.1.0,>=2.0.0, but you'll have prompt-toolkit 1.0.15 which is incompatible.\u001b[0m\n",
            "Get:1 http://security.ubuntu.com/ubuntu bionic-security InRelease [83.2 kB]\n",
            "Hit:2 http://ppa.launchpad.net/graphics-drivers/ppa/ubuntu bionic InRelease\n",
            "Hit:3 http://archive.ubuntu.com/ubuntu bionic InRelease\n",
            "Get:4 http://archive.ubuntu.com/ubuntu bionic-updates InRelease [88.7 kB]\n",
            "Get:5 http://archive.ubuntu.com/ubuntu bionic-backports InRelease [74.6 kB]\n",
            "Ign:6 https://developer.download.nvidia.com/compute/cuda/repos/ubuntu1710/x86_64  InRelease\n",
            "Ign:7 https://developer.download.nvidia.com/compute/machine-learning/repos/ubuntu1604/x86_64  InRelease\n",
            "Hit:8 https://developer.download.nvidia.com/compute/cuda/repos/ubuntu1710/x86_64  Release\n",
            "Hit:9 https://developer.download.nvidia.com/compute/machine-learning/repos/ubuntu1604/x86_64  Release\n",
            "Get:10 http://archive.ubuntu.com/ubuntu bionic-updates/multiverse amd64 Packages [6,931 B]\n",
            "Get:11 http://archive.ubuntu.com/ubuntu bionic-updates/main amd64 Packages [588 kB]\n",
            "Get:12 http://archive.ubuntu.com/ubuntu bionic-updates/universe amd64 Packages [747 kB]\n",
            "Get:13 http://security.ubuntu.com/ubuntu bionic-security/multiverse amd64 Packages [1,367 B]\n",
            "Get:14 http://security.ubuntu.com/ubuntu bionic-security/universe amd64 Packages [124 kB]\n",
            "Get:16 http://security.ubuntu.com/ubuntu bionic-security/main amd64 Packages [277 kB]\n",
            "Fetched 1,992 kB in 2s (797 kB/s)\n",
            "Reading package lists... Done\n",
            "Building dependency tree       \n",
            "Reading state information... Done\n",
            "8 packages can be upgraded. Run 'apt list --upgradable' to see them.\n",
            "\n",
            "WARNING: apt does not have a stable CLI interface. Use with caution in scripts.\n",
            "\n",
            "Collecting torchtext==0.2.3\n",
            "\u001b[?25l  Downloading https://files.pythonhosted.org/packages/78/90/474d5944d43001a6e72b9aaed5c3e4f77516fbef2317002da2096fd8b5ea/torchtext-0.2.3.tar.gz (42kB)\n",
            "\u001b[K    100% |████████████████████████████████| 51kB 2.0MB/s \n",
            "\u001b[?25hRequirement already satisfied: tqdm in /usr/local/lib/python3.6/dist-packages (from torchtext==0.2.3) (4.28.1)\n",
            "Requirement already satisfied: requests in /usr/local/lib/python3.6/dist-packages (from torchtext==0.2.3) (2.18.4)\n",
            "Requirement already satisfied: urllib3<1.23,>=1.21.1 in /usr/local/lib/python3.6/dist-packages (from requests->torchtext==0.2.3) (1.22)\n",
            "Requirement already satisfied: idna<2.7,>=2.5 in /usr/local/lib/python3.6/dist-packages (from requests->torchtext==0.2.3) (2.6)\n",
            "Requirement already satisfied: chardet<3.1.0,>=3.0.2 in /usr/local/lib/python3.6/dist-packages (from requests->torchtext==0.2.3) (3.0.4)\n",
            "Requirement already satisfied: certifi>=2017.4.17 in /usr/local/lib/python3.6/dist-packages (from requests->torchtext==0.2.3) (2018.11.29)\n",
            "Building wheels for collected packages: torchtext\n",
            "  Running setup.py bdist_wheel for torchtext ... \u001b[?25l-\b \bdone\n",
            "\u001b[?25h  Stored in directory: /root/.cache/pip/wheels/42/a6/f4/b267328bde6bb680094a0c173e8e5627ccc99543abded97204\n",
            "Successfully built torchtext\n",
            "Installing collected packages: torchtext\n",
            "  Found existing installation: torchtext 0.3.1\n",
            "    Uninstalling torchtext-0.3.1:\n",
            "      Successfully uninstalled torchtext-0.3.1\n",
            "Successfully installed torchtext-0.2.3\n"
          ],
          "name": "stdout"
        }
      ]
    },
    {
      "metadata": {
        "id": "JfzW_sWmp39e",
        "colab_type": "text"
      },
      "cell_type": "markdown",
      "source": [
        "<br>\n",
        "<a id=\"load_train\"> </a>\n",
        "# 2. Load pre-trained ResNet Model"
      ]
    },
    {
      "metadata": {
        "id": "kzOtCDUzX6Aa",
        "colab_type": "text"
      },
      "cell_type": "markdown",
      "source": [
        "## 2.1 Libraries setup\n",
        "Import the fastai libraries"
      ]
    },
    {
      "metadata": {
        "id": "f_V04IVy2uk4",
        "colab_type": "code",
        "colab": {}
      },
      "cell_type": "code",
      "source": [
        "# Put these at the top of every notebook, to get automatic reloading and inline plotting\n",
        "%reload_ext autoreload\n",
        "%autoreload 2\n",
        "%matplotlib inline"
      ],
      "execution_count": 0,
      "outputs": []
    },
    {
      "metadata": {
        "id": "Dt7jG7DZ26oG",
        "colab_type": "code",
        "colab": {}
      },
      "cell_type": "code",
      "source": [
        "# This file contains all the main external libs we'll use\n",
        "from fastai.imports import *\n",
        "from fastai.transforms import *\n",
        "from fastai.conv_learner import *\n",
        "from fastai.model import *\n",
        "from fastai.dataset import *\n",
        "from fastai.sgdr import *\n",
        "from fastai.plots import *\n",
        "import sys"
      ],
      "execution_count": 0,
      "outputs": []
    },
    {
      "metadata": {
        "id": "ePZgf0VW2weC",
        "colab_type": "text"
      },
      "cell_type": "markdown",
      "source": [
        "## 2.2 Load model\n"
      ]
    },
    {
      "metadata": {
        "id": "vsXfAxV0pb7n",
        "colab_type": "code",
        "colab": {}
      },
      "cell_type": "code",
      "source": [
        "###   Add here the name of the model to test\n",
        "model_name = \"carCrash180614-1506_sz299_bs60_ep5\""
      ],
      "execution_count": 0,
      "outputs": []
    },
    {
      "metadata": {
        "id": "drF22TFNYPH3",
        "colab_type": "code",
        "colab": {
          "base_uri": "https://localhost:8080/",
          "height": 104
        },
        "outputId": "d96940e8-e90c-4ebc-c72d-a6729bcef430"
      },
      "cell_type": "code",
      "source": [
        "arch=resnet34\n",
        "sz = 299                                                                        # Type same size used during model creation. If you donwloaded the model, a new precomputed activations will be generated.\n",
        "batch_size = 60                                                                 # Type same batch_size used during model creation. If you donwloaded the model, a new precomputed activations will be generated.\n",
        "PATH = \"GDrive/My Drive/CarCrashDetection/Dataset/\"\n",
        "data = ImageClassifierData.from_paths(PATH, tfms=tfms_from_model(arch, sz), bs=batch_size)     \n",
        "learn = ConvLearner.pretrained(arch, data, precompute=True)\n",
        "\n",
        "\n",
        "print ( \"Loading model:\", model_name,\".h5\\n\")\n",
        "learn.load(model_name)\n",
        "print ( \"Model loaded\")"
      ],
      "execution_count": 6,
      "outputs": [
        {
          "output_type": "stream",
          "text": [
            "Downloading: \"https://download.pytorch.org/models/resnet34-333f7ec4.pth\" to /root/.torch/models/resnet34-333f7ec4.pth\n",
            "100%|██████████| 87306240/87306240 [00:04<00:00, 18944882.52it/s]\n"
          ],
          "name": "stderr"
        },
        {
          "output_type": "stream",
          "text": [
            "Loading model: carCrash180614-1506_sz299_bs60_ep5 .h5\n",
            "\n",
            "Model loaded\n"
          ],
          "name": "stdout"
        }
      ]
    },
    {
      "metadata": {
        "id": "N2Grx7aa7E8n",
        "colab_type": "text"
      },
      "cell_type": "markdown",
      "source": [
        "## 2.3 Load image to test"
      ]
    },
    {
      "metadata": {
        "id": "iAzhf7-I6zv9",
        "colab_type": "code",
        "colab": {
          "base_uri": "https://localhost:8080/",
          "height": 257
        },
        "outputId": "5d695c02-6822-4326-f5f3-565e2b563db6"
      },
      "cell_type": "code",
      "source": [
        "PATH = \"GDrive/My Drive/CarCrashDetection/Dataset/train/no_accident/\"\n",
        "fn = \"4frame60.png\"\n",
        "\n",
        "PATH = \"GDrive/My Drive/CarCrashDetection/Dataset/train/accident/\"\n",
        "fn = \"frame0020.png\"\n",
        "\n",
        "img = open_image(PATH+fn)\n",
        "\n",
        "print(img.shape)\n",
        "plt.imshow(img);"
      ],
      "execution_count": 7,
      "outputs": [
        {
          "output_type": "stream",
          "text": [
            "(360, 640, 3)\n"
          ],
          "name": "stdout"
        },
        {
          "output_type": "display_data",
          "data": {
            "image/png": "[encoded data removed]",
            "text/plain": [
              "<matplotlib.figure.Figure at 0x7f81d1bf9e10>"
            ]
          },
          "metadata": {
            "tags": []
          }
        }
      ]
    },
    {
      "metadata": {
        "id": "v4F-nRQF7aUN",
        "colab_type": "text"
      },
      "cell_type": "markdown",
      "source": [
        "## 2.4 Prediction Test"
      ]
    },
    {
      "metadata": {
        "id": "_jsgMZBK7VaO",
        "colab_type": "code",
        "colab": {
          "base_uri": "https://localhost:8080/",
          "height": 34
        },
        "outputId": "f5ef2b08-6db0-48b5-f7a4-9b9d2bf0441c"
      },
      "cell_type": "code",
      "source": [
        "trn_tfms, val_tfms = tfms_from_model(arch,sz)      # get transformations\n",
        "im = val_tfms (img)\n",
        "\n",
        "learn.precompute=False                             # We'll pass in a raw image, not activations\n",
        "preds = learn.predict_array(im[None])\n",
        "np.argmax(preds)                                   # preds are log probabilities of classes"
      ],
      "execution_count": 8,
      "outputs": [
        {
          "output_type": "execute_result",
          "data": {
            "text/plain": [
              "1"
            ]
          },
          "metadata": {
            "tags": []
          },
          "execution_count": 8
        }
      ]
    },
    {
      "metadata": {
        "id": "RgF4WQC9qtvo",
        "colab_type": "text"
      },
      "cell_type": "markdown",
      "source": [
        "<br>\n",
        "<a id=\"pred_batch\"> </a>\n",
        "# 3. Prediction Batch processing Test"
      ]
    },
    {
      "metadata": {
        "id": "b9rERh-K-NbP",
        "colab_type": "text"
      },
      "cell_type": "markdown",
      "source": [
        "## 3.1 Define test bench folder to check"
      ]
    },
    {
      "metadata": {
        "id": "F5eJ8byF-Fli",
        "colab_type": "code",
        "colab": {
          "base_uri": "https://localhost:8080/",
          "height": 34
        },
        "outputId": "7b9bdc39-bc06-41e4-880a-6c2d7c7844d1"
      },
      "cell_type": "code",
      "source": [
        "#PATH = \"GDrive/My Drive/CarCrashDetection/video_to_check/frames1-noaccident/\"\n",
        "PATH = \"GDrive/My Drive/CarCrashDetection/video_to_check/frames4-noaccident/\"\n",
        "#PATH = \"GDrive/My Drive/CarCrashDetection/video_to_check/frames5-noaccident/\"\n",
        "#PATH = \"GDrive/My Drive/CarCrashDetection/video_to_check/frames9-noaccident/\"\n",
        "#PATH = \"GDrive/My Drive/CarCrashDetection/video_to_check/frames10-noaccident/\"\n",
        "\n",
        "#PATH = \"GDrive/My Drive/CarCrashDetection/video_to_check/frames2-accident/\"\n",
        "#PATH = \"GDrive/My Drive/CarCrashDetection/video_to_check/frames3-accident/\"\n",
        "#PATH = \"GDrive/My Drive/CarCrashDetection/video_to_check/frames6-accident/\"\n",
        "#PATH = \"GDrive/My Drive/CarCrashDetection/video_to_check/frames7-accident/\"\n",
        "#PATH = \"GDrive/My Drive/CarCrashDetection/video_to_check/frames8-accident/\"\n",
        "\n",
        "\n",
        "#filenames_to_check = !ls -tr {PATH} \n",
        "\n",
        "\n",
        "filenames_to_check = os.listdir (\"GDrive/My Drive/CarCrashDetection/video_to_check/frames4-noaccident/\")\n",
        "number_images = len(filenames_to_check)\n",
        "print(f\"Number of images to check: {number_images}\")"
      ],
      "execution_count": 9,
      "outputs": [
        {
          "output_type": "stream",
          "text": [
            "Number of images to check: 44\n"
          ],
          "name": "stdout"
        }
      ]
    },
    {
      "metadata": {
        "id": "46sPQmAWi4vr",
        "colab_type": "text"
      },
      "cell_type": "markdown",
      "source": [
        "## 3.2 Prediction"
      ]
    },
    {
      "metadata": {
        "id": "Jr9vBFxh3apG",
        "colab_type": "code",
        "colab": {
          "base_uri": "https://localhost:8080/",
          "height": 86
        },
        "outputId": "6995e944-1afc-4e8a-f622-1319bb86f1ba"
      },
      "cell_type": "code",
      "source": [
        "count = 0\n",
        "list = []\n",
        "for i in range(number_images):\n",
        "  fn = filenames_to_check[i]\n",
        "  img = open_image(PATH+fn)\n",
        "  trn_tfms, val_tfms = tfms_from_model(arch,sz)      \n",
        "  im = val_tfms (img)\n",
        "\n",
        "  learn.precompute=False                             \n",
        "  preds = learn.predict_array(im[None])\n",
        "  p = np.argmax(preds)       \n",
        "  list.append(p)\n",
        "  count += 1 \n",
        "  if (count%5):    \n",
        "    b = round((count*100 / number_images),0)\n",
        "    sys.stdout.write('\\r'+ str(b) + \"%\")\n",
        "\n",
        "print (\"\")\n",
        "print (\"Imagenes procesadas :\", count)\n",
        "print (\"Tentative number of no accidents :\", list.count(1))\n",
        "print (\"Tentative number of accidents :\", list.count(0))"
      ],
      "execution_count": 10,
      "outputs": [
        {
          "output_type": "stream",
          "text": [
            "100.0%\n",
            "Imagenes procesadas : 44\n",
            "Tentative number of no accidents : 44\n",
            "Tentative number of accidents : 0\n"
          ],
          "name": "stdout"
        }
      ]
    },
    {
      "metadata": {
        "id": "mwqkc1wCjOTx",
        "colab_type": "text"
      },
      "cell_type": "markdown",
      "source": [
        "## 3.3 Prediction normalization"
      ]
    },
    {
      "metadata": {
        "id": "DU8kxVDmjkxu",
        "colab_type": "code",
        "colab": {}
      },
      "cell_type": "code",
      "source": [
        "# normalization setup\n",
        "seg_lenght = 5      # Segment lenght to analize\n",
        "steps = 4           # number of steps between length\n",
        "positivos = 2       # number of '0's in the lenght"
      ],
      "execution_count": 0,
      "outputs": []
    },
    {
      "metadata": {
        "id": "Jr3Lh-19en3f",
        "colab_type": "code",
        "colab": {}
      },
      "cell_type": "code",
      "source": [
        "list_normalized = []\n",
        "\n",
        "\n",
        "for i in range(0, (len(list)-(steps+1)), steps):                 # iterates the prediction list according the steps\n",
        "  norm = 0\n",
        "  for j in range (seg_lenght):\n",
        "    posicion = i+j\n",
        "    norm = norm + list[posicion]\n",
        "\n",
        "  if (norm>positivos):\n",
        "    list_normalized.append(1)\n",
        "  else:\n",
        "    list_normalized.append(0)"
      ],
      "execution_count": 0,
      "outputs": []
    },
    {
      "metadata": {
        "id": "dGvzIVnK-WFM",
        "colab_type": "code",
        "colab": {
          "base_uri": "https://localhost:8080/",
          "height": 52
        },
        "outputId": "ebaeb1d8-9789-4da8-92d3-fcee5afb45b8"
      },
      "cell_type": "code",
      "source": [
        "print (list)\n",
        "print (list_normalized)"
      ],
      "execution_count": 13,
      "outputs": [
        {
          "output_type": "stream",
          "text": [
            "[1, 1, 1, 1, 1, 1, 1, 1, 1, 1, 1, 1, 1, 1, 1, 1, 1, 1, 1, 1, 1, 1, 1, 1, 1, 1, 1, 1, 1, 1, 1, 1, 1, 1, 1, 1, 1, 1, 1, 1, 1, 1, 1, 1]\n",
            "[1, 1, 1, 1, 1, 1, 1, 1, 1, 1]\n"
          ],
          "name": "stdout"
        }
      ]
    },
    {
      "metadata": {
        "id": "f3xkcXZ4sOAR",
        "colab_type": "text"
      },
      "cell_type": "markdown",
      "source": [
        "## 3.4 Resultado"
      ]
    },
    {
      "metadata": {
        "id": "l_6SsE4Ufrl7",
        "colab_type": "code",
        "colab": {
          "base_uri": "https://localhost:8080/",
          "height": 34
        },
        "outputId": "01988269-aaf3-4f45-dc08-2693d1ea7f7e"
      },
      "cell_type": "code",
      "source": [
        "count = 0\n",
        "accidente = 0\n",
        "for i in range( len (list_normalized)):\n",
        "  if (count == 3):\n",
        "    accidente = 1\n",
        "    break\n",
        "  else:\n",
        "    if (list_normalized[i] == 1):\n",
        "      count == 0\n",
        "    else:\n",
        "      count +=1\n",
        "if (accidente == 0):\n",
        "  print (\"No accident in video\")\n",
        "else:\n",
        "  print (\"Warning, accident\")    "
      ],
      "execution_count": 14,
      "outputs": [
        {
          "output_type": "stream",
          "text": [
            "No accident in video\n"
          ],
          "name": "stdout"
        }
      ]
    }
  ]
}