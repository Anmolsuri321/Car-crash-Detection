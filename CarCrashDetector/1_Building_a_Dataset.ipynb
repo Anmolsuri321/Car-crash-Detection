{
  "nbformat": 4,
  "nbformat_minor": 0,
  "metadata": {
    "colab": {
      "name": "1_Building_a_Dataset.ipynb",
      "version": "0.3.2",
      "provenance": [],
      "collapsed_sections": [],
      "include_colab_link": true
    },
    "kernelspec": {
      "name": "python3",
      "display_name": "Python 3"
    }
  },
  "cells": [
    {
      "cell_type": "markdown",
      "metadata": {
        "id": "view-in-github",
        "colab_type": "text"
      },
      "source": [
        "<a href=\"https://colab.research.google.com/github/Giffy/CarCrashDetector/blob/master/1_Building_a_Dataset.ipynb\" target=\"_parent\"><img src=\"https://colab.research.google.com/assets/colab-badge.svg\" alt=\"Open In Colab\"/></a>"
      ]
    },
    {
      "metadata": {
        "id": "QLytiSIZC1Cm",
        "colab_type": "text"
      },
      "cell_type": "markdown",
      "source": [
        "#Building a Dataset\n",
        "To build a Dataset is the first challenge, sometimes there are huge datasets ready to be downloaded ( https://www.kaggle.com , in public organizations http://governobert.gencat.cat/en/dades_obertes/ , etc). Unfortunatelly, there was not any dataset available. Where could we get thousands of videos recorded with dshboard camera? Right, in www.youtube.com\n",
        "\n",
        "Youtube is the largest repository of videos with many examples of both car crashes (lots of compilations) and non-crashes. Fist challenge is to have consistent data. Main rules in the dataset creation were:\n",
        "- location of the camera: should be a dashboard camera or recorded from similar location\n",
        "- crashes between cars or car and truck (no motorbikes, trains, ...)\n",
        "- light conditions: records during the day\n",
        "- video quality at least 640 width or above\n",
        "- removed any cover with titles\n",
        "- car crash accidents type\n",
        "\n",
        "First task was to download the candidate videos in order to process the images and homogenize the data.\n",
        "We used OpenCV library to extract the frames, and scikit-image to modify and resize them. Frames are converted to 640 pixels width and from colors to grayscale."
      ]
    },
    {
      "metadata": {
        "id": "XcYa3PpLELOW",
        "colab_type": "text"
      },
      "cell_type": "markdown",
      "source": [
        "### **INPUT required** : a video with mp4 format stored in Google Drive folder  CarCrashDetection/Sources"
      ]
    },
    {
      "metadata": {
        "id": "z1cwXZWXfJ3y",
        "colab_type": "text"
      },
      "cell_type": "markdown",
      "source": [
        "# Index\n",
        "<ol>\n",
        "    <li><a href=\"#env_setup\">Environment setup </a>\n",
        "    <li><a href=\"#drive_setup\">Connection to Google drive</a>\n",
        "    <li><a href=\"#variables\">Constants and variables</a>\n",
        "    <li><a href=\"#video_frame\">Transform videos to frames</a>"
      ]
    },
    {
      "metadata": {
        "id": "E9_XGk6Gfeu-",
        "colab_type": "text"
      },
      "cell_type": "markdown",
      "source": [
        "<a id=\"env_setup\"> </a>\n",
        "## 1. Environment setup and library import"
      ]
    },
    {
      "metadata": {
        "id": "wLdz8E-BZP3C",
        "colab_type": "code",
        "colab": {
          "base_uri": "https://localhost:8080/",
          "height": 182
        },
        "outputId": "b9dd06f8-172d-4ce6-d89a-fd2bfc9ef98e"
      },
      "cell_type": "code",
      "source": [
        "!pip install --upgrade pip > /dev/null\n",
        "!pip install scikit-image==0.13.1\n",
        "!pip install opencv-python==3.4.0.12"
      ],
      "execution_count": 24,
      "outputs": [
        {
          "output_type": "stream",
          "text": [
            "Collecting opencv-python==3.4.0.12\n",
            "\u001b[?25l  Downloading https://files.pythonhosted.org/packages/50/f9/5c454f0f52788a913979877e6ed9b2454a9c7676581a0ee3a2d81db784a6/opencv_python-3.4.0.12-cp36-cp36m-manylinux1_x86_64.whl (24.9MB)\n",
            "\u001b[K    100% |████████████████████████████████| 24.9MB 1.2MB/s \n",
            "\u001b[?25hRequirement already satisfied: numpy>=1.11.3 in /usr/local/lib/python3.6/dist-packages (from opencv-python==3.4.0.12) (1.14.6)\n",
            "Installing collected packages: opencv-python\n",
            "  Found existing installation: opencv-python 3.4.4.19\n",
            "    Uninstalling opencv-python-3.4.4.19:\n",
            "      Successfully uninstalled opencv-python-3.4.4.19\n",
            "Successfully installed opencv-python-3.4.0.12\n"
          ],
          "name": "stdout"
        }
      ]
    },
    {
      "metadata": {
        "id": "A7Vu1eSYey5e",
        "colab_type": "code",
        "colab": {}
      },
      "cell_type": "code",
      "source": [
        "import cv2\n",
        "from skimage.color import rgb2gray\n",
        "from skimage.transform import resize\n",
        "import matplotlib.pyplot as plt\n",
        "import math"
      ],
      "execution_count": 0,
      "outputs": []
    },
    {
      "metadata": {
        "id": "NCfhpvFj9MVS",
        "colab_type": "text"
      },
      "cell_type": "markdown",
      "source": [
        "<a id=\"drive_setup\"> </a>\n",
        "## 2. Link Goggle Drive with Colab\n",
        "\n",
        "Run the code and follow the link to get an authentification key, copy it and paste in the box that will appear in jupyter notebook. After fist key the script will ask for a second authentification key, follow the process as above.\n",
        "\n",
        "Source : https://medium.com/deep-learning-turkey/google-colab-free-gpu-tutorial-e113627b9f5d "
      ]
    },
    {
      "metadata": {
        "id": "8PDFEgqA9KuM",
        "colab_type": "code",
        "outputId": "dfe6109e-74a8-473f-ba3b-0e1d77cb05b4",
        "colab": {
          "base_uri": "https://localhost:8080/",
          "height": 54
        }
      },
      "cell_type": "code",
      "source": [
        "# Check is Link to Drive is OK\n",
        "google = !if [ -d 'GDrive/' ]; then echo \"1\" ; else echo \"0\"; fi\n",
        "if (google[0] is '0' ):\n",
        "  from google.colab import drive\n",
        "  drive.mount('/content/GDrive/')\n",
        "!if [ -d 'GDrive/' ]; then echo \"Connection to Google drive successful\" ; else echo \"Error to connect to Google drive\"; fi"
      ],
      "execution_count": 3,
      "outputs": [
        {
          "output_type": "stream",
          "text": [
            "Mounted at /content/GDrive/\n",
            "Connection to Google drive successful\n"
          ],
          "name": "stdout"
        }
      ]
    },
    {
      "metadata": {
        "id": "cxAIW3nO_awu",
        "colab_type": "text"
      },
      "cell_type": "markdown",
      "source": [
        "<a id=\"variables\"> </a>\n",
        "## 3. Constants and variables"
      ]
    },
    {
      "metadata": {
        "id": "oL4fPGpuKP2m",
        "colab_type": "code",
        "colab": {}
      },
      "cell_type": "code",
      "source": [
        "# Make a temporarty directory in Google colab\n",
        "!mkdir -p /content/CarCrashDetection/Sources/frames > /dev/null\n",
        "\n",
        "# Recomended to download and copy mp4 video in your Google Drive.\n",
        "# Directory tree structure in Google drive\n",
        "#      / ──┐\n",
        "#          └─ /CarCrashDetection ──┐\n",
        "#                                  ├─ videofile\n",
        "#                                  └─ /frames \n",
        "\n",
        "# copy video stored in Google Drive /CarCrashDetection/Sources/   to Colab\n",
        "!cp GDrive/My\\ Drive/CarCrashDetection/Sources/*.mp4 CarCrashDetection/Sources/"
      ],
      "execution_count": 0,
      "outputs": []
    },
    {
      "metadata": {
        "id": "xwVJaYVnW9bd",
        "colab_type": "code",
        "colab": {
          "base_uri": "https://localhost:8080/",
          "height": 35
        },
        "outputId": "c47da8bb-512c-4b7d-c20e-c74b2bf2d9da"
      },
      "cell_type": "code",
      "source": [
        "INPUT_VIDEOS_PATH = '/content/CarCrashDetection/Sources'              # Path to folder with videos \n",
        "OUTPUT_FRAMES_PATH = '/content/CarCrashDetection/Sources/frames'      # Location of extracted images\n",
        "\n",
        "frame_name = 'frame'                                                  # Frame name       \n",
        "one_frame_each = 4                                                    # Extract one frame each 70\n",
        "\n",
        "\n",
        "!if [ -d {OUTPUT_FRAMES_PATH} ]; then echo \"Output to be stored in \"{OUTPUT_FRAMES_PATH} ; else mkdir {OUTPUT_FRAMES_PATH} && echo \"Output directory created\"; fi\n",
        "\n",
        "files = !ls {INPUT_VIDEOS_PATH}/*.mp4                                 # Video file names in INPUT VIDEOS PATH\n",
        "videofile = files[0]                                                  # Refactor of variable 'files' to convert the first video of list "
      ],
      "execution_count": 45,
      "outputs": [
        {
          "output_type": "stream",
          "text": [
            "Output to be stored in /content/CarCrashDetection/Sources/frames\n"
          ],
          "name": "stdout"
        }
      ]
    },
    {
      "metadata": {
        "id": "ol7vkvGijGUZ",
        "colab_type": "text"
      },
      "cell_type": "markdown",
      "source": [
        "<a id=\"video_frame\"> </a>\n",
        "## 4. Transform videos to frames"
      ]
    },
    {
      "metadata": {
        "id": "TEyu5N0u7GWi",
        "colab_type": "code",
        "outputId": "9ad498db-653b-4186-89c3-89c1d89d84e0",
        "colab": {
          "base_uri": "https://localhost:8080/",
          "height": 35
        }
      },
      "cell_type": "code",
      "source": [
        "count = 0\n",
        "success = True\n",
        "\n",
        "vidcap = cv2.VideoCapture(videofile)\n",
        "\n",
        "while success:\n",
        "    if (count%one_frame_each == 0):                                   # checks frame number and keeps one_frame_each          \n",
        "        success,image = vidcap.read()                                 # reads next frame           \n",
        "        image_gray = rgb2gray(image)                                  # grayscale image\n",
        "        if image.shape[1]>640:                                        # if image width > 640, resize it\n",
        "          tmp = resize(image_gray, (math.floor(640 / image_gray.shape[1] * image_gray.shape[0]), 640),mode='constant')\n",
        "        plt.imsave(\"%s/%s%d.png\" % (OUTPUT_FRAMES_PATH,frame_name, count), tmp, cmap= plt.cm.gray) # saves images to frame folder\n",
        "        print ('*', end=\"\")\n",
        "    else:\n",
        "        success,image = vidcap.read()                                 # reads next frame\n",
        "    count += 1                                                        # loops counter"
      ],
      "execution_count": 46,
      "outputs": [
        {
          "output_type": "stream",
          "text": [
            "**************************************"
          ],
          "name": "stdout"
        }
      ]
    },
    {
      "metadata": {
        "id": "jZpRHXCXG_2f",
        "colab_type": "code",
        "colab": {}
      },
      "cell_type": "code",
      "source": [
        "!cp CarCrashDetection/Sources/frames/* GDrive/My\\ Drive/CarCrashDetection/Sources/frames"
      ],
      "execution_count": 0,
      "outputs": []
    },
    {
      "metadata": {
        "id": "OXuE6GeKOGKz",
        "colab_type": "code",
        "colab": {
          "base_uri": "https://localhost:8080/",
          "height": 146
        },
        "outputId": "f4775b65-8ba5-4fcd-c164-9fca39b37a00"
      },
      "cell_type": "code",
      "source": [
        "!ls GDrive/My\\ Drive/CarCrashDetection/Sources/frames"
      ],
      "execution_count": 52,
      "outputs": [
        {
          "output_type": "stream",
          "text": [
            "frame0.png    frame124.png  frame148.png  frame40.png  frame64.png  frame8.png\n",
            "frame100.png  frame128.png  frame16.png   frame44.png  frame68.png  frame92.png\n",
            "frame104.png  frame12.png   frame20.png   frame48.png  frame72.png  frame96.png\n",
            "frame108.png  frame132.png  frame24.png   frame4.png   frame76.png\n",
            "frame112.png  frame136.png  frame28.png   frame52.png  frame80.png\n",
            "frame116.png  frame140.png  frame32.png   frame56.png  frame84.png\n",
            "frame120.png  frame144.png  frame36.png   frame60.png  frame88.png\n"
          ],
          "name": "stdout"
        }
      ]
    },
    {
      "metadata": {
        "id": "K_GgBtQrOKdo",
        "colab_type": "code",
        "colab": {}
      },
      "cell_type": "code",
      "source": [
        ""
      ],
      "execution_count": 0,
      "outputs": []
    }
  ]
}